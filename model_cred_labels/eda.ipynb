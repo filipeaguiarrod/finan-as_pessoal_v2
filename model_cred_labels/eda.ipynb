{
 "cells": [
  {
   "attachments": {},
   "cell_type": "markdown",
   "id": "37dc3f4d",
   "metadata": {},
   "source": [
    "# Bibliotecas"
   ]
  },
  {
   "cell_type": "code",
   "execution_count": 51,
   "id": "ce6a0112-8043-49ae-bef4-5a2fe436008a",
   "metadata": {
    "execution": {
     "iopub.execute_input": "2023-03-16T02:11:20.745158Z",
     "iopub.status.busy": "2023-03-16T02:11:20.745158Z",
     "iopub.status.idle": "2023-03-16T02:11:20.760161Z",
     "shell.execute_reply": "2023-03-16T02:11:20.760161Z",
     "shell.execute_reply.started": "2023-03-16T02:11:20.745158Z"
    },
    "tags": []
   },
   "outputs": [],
   "source": [
    "import pandas as pd\n",
    "import numpy as np\n",
    "import seaborn as sns\n",
    "#!pip install nltk\n",
    "import sys\n",
    "from nlp_toolbox import preprocessing as prep\n",
    "import re\n",
    "\n",
    "sys.path.append('D:\\\\Data Scientist\\\\NLP')"
   ]
  },
  {
   "cell_type": "code",
   "execution_count": 52,
   "id": "6a033322",
   "metadata": {},
   "outputs": [],
   "source": [
    "def just_string(x):\n",
    "    \n",
    "    try:\n",
    "    \n",
    "        y = \" \".join(re.findall(\"[a-zA-Z]+\", x))\n",
    "        \n",
    "        return y\n",
    "\n",
    "    except:\n",
    "    \n",
    "        return np.nan"
   ]
  },
  {
   "cell_type": "code",
   "execution_count": 53,
   "id": "6895cde5-fc27-49f7-8fb2-2a3d9912886e",
   "metadata": {
    "execution": {
     "iopub.execute_input": "2023-03-16T02:11:20.762162Z",
     "iopub.status.busy": "2023-03-16T02:11:20.761161Z",
     "iopub.status.idle": "2023-03-16T02:11:20.777165Z",
     "shell.execute_reply": "2023-03-16T02:11:20.776164Z",
     "shell.execute_reply.started": "2023-03-16T02:11:20.762162Z"
    },
    "tags": []
   },
   "outputs": [],
   "source": [
    "df = pd.read_csv('db_consumo_categorias - cartao_credito.csv',decimal=',')"
   ]
  },
  {
   "cell_type": "code",
   "execution_count": 54,
   "id": "2b12bdb9-adeb-4d4d-9997-6786a6492065",
   "metadata": {
    "execution": {
     "iopub.execute_input": "2023-03-16T02:11:20.780165Z",
     "iopub.status.busy": "2023-03-16T02:11:20.779166Z",
     "iopub.status.idle": "2023-03-16T02:11:20.793168Z",
     "shell.execute_reply": "2023-03-16T02:11:20.792169Z",
     "shell.execute_reply.started": "2023-03-16T02:11:20.780165Z"
    },
    "tags": []
   },
   "outputs": [
    {
     "name": "stdout",
     "output_type": "stream",
     "text": [
      "<class 'pandas.core.frame.DataFrame'>\n",
      "RangeIndex: 691 entries, 0 to 690\n",
      "Data columns (total 5 columns):\n",
      " #   Column      Non-Null Count  Dtype  \n",
      "---  ------      --------------  -----  \n",
      " 0   Categoria   690 non-null    object \n",
      " 1   Data        691 non-null    object \n",
      " 2   Lançamento  690 non-null    object \n",
      " 3   Valor (R$)  608 non-null    object \n",
      " 4   Valor ()    83 non-null     float64\n",
      "dtypes: float64(1), object(4)\n",
      "memory usage: 27.1+ KB\n"
     ]
    }
   ],
   "source": [
    "df.info()"
   ]
  },
  {
   "cell_type": "code",
   "execution_count": 55,
   "id": "2d21fdb3",
   "metadata": {},
   "outputs": [
    {
     "data": {
      "text/html": [
       "<div>\n",
       "<style scoped>\n",
       "    .dataframe tbody tr th:only-of-type {\n",
       "        vertical-align: middle;\n",
       "    }\n",
       "\n",
       "    .dataframe tbody tr th {\n",
       "        vertical-align: top;\n",
       "    }\n",
       "\n",
       "    .dataframe thead th {\n",
       "        text-align: right;\n",
       "    }\n",
       "</style>\n",
       "<table border=\"1\" class=\"dataframe\">\n",
       "  <thead>\n",
       "    <tr style=\"text-align: right;\">\n",
       "      <th></th>\n",
       "      <th>Categoria</th>\n",
       "      <th>Data</th>\n",
       "      <th>Lançamento</th>\n",
       "      <th>Valor (R$)</th>\n",
       "      <th>Valor ()</th>\n",
       "    </tr>\n",
       "  </thead>\n",
       "  <tbody>\n",
       "    <tr>\n",
       "      <th>0</th>\n",
       "      <td>Aluguel</td>\n",
       "      <td>19/08/2022</td>\n",
       "      <td>Quintoandar       05/05</td>\n",
       "      <td>45.8</td>\n",
       "      <td>NaN</td>\n",
       "    </tr>\n",
       "    <tr>\n",
       "      <th>1</th>\n",
       "      <td>Utilidade Casa</td>\n",
       "      <td>09/09/2022</td>\n",
       "      <td>Leroy Merlin      04/04</td>\n",
       "      <td>109.73</td>\n",
       "      <td>NaN</td>\n",
       "    </tr>\n",
       "    <tr>\n",
       "      <th>2</th>\n",
       "      <td>Planos</td>\n",
       "      <td>11/09/2022</td>\n",
       "      <td>Elaza Comercial Va04/10</td>\n",
       "      <td>290.0</td>\n",
       "      <td>NaN</td>\n",
       "    </tr>\n",
       "    <tr>\n",
       "      <th>3</th>\n",
       "      <td>Eletrônico</td>\n",
       "      <td>13/09/2022</td>\n",
       "      <td>Aliexpress        04/06</td>\n",
       "      <td>20.87</td>\n",
       "      <td>NaN</td>\n",
       "    </tr>\n",
       "    <tr>\n",
       "      <th>4</th>\n",
       "      <td>Eletrônico</td>\n",
       "      <td>13/09/2022</td>\n",
       "      <td>Aliexpress        04/06</td>\n",
       "      <td>22.6</td>\n",
       "      <td>NaN</td>\n",
       "    </tr>\n",
       "    <tr>\n",
       "      <th>...</th>\n",
       "      <td>...</td>\n",
       "      <td>...</td>\n",
       "      <td>...</td>\n",
       "      <td>...</td>\n",
       "      <td>...</td>\n",
       "    </tr>\n",
       "    <tr>\n",
       "      <th>686</th>\n",
       "      <td>Assinatura</td>\n",
       "      <td>12/02/2023</td>\n",
       "      <td>Amazonprimebr</td>\n",
       "      <td>NaN</td>\n",
       "      <td>15.0</td>\n",
       "    </tr>\n",
       "    <tr>\n",
       "      <th>687</th>\n",
       "      <td>Assinatura</td>\n",
       "      <td>13/02/2023</td>\n",
       "      <td>Google Storage</td>\n",
       "      <td>NaN</td>\n",
       "      <td>35.0</td>\n",
       "    </tr>\n",
       "    <tr>\n",
       "      <th>688</th>\n",
       "      <td>Restaurante</td>\n",
       "      <td>16/02/2023</td>\n",
       "      <td>Market4u*compra*118685</td>\n",
       "      <td>NaN</td>\n",
       "      <td>3.0</td>\n",
       "    </tr>\n",
       "    <tr>\n",
       "      <th>689</th>\n",
       "      <td>Assinatura</td>\n",
       "      <td>19/02/2023</td>\n",
       "      <td>Google Youtubepremium</td>\n",
       "      <td>NaN</td>\n",
       "      <td>21.0</td>\n",
       "    </tr>\n",
       "    <tr>\n",
       "      <th>690</th>\n",
       "      <td>Restaurante</td>\n",
       "      <td>21/02/2023</td>\n",
       "      <td>Market4u*compra*119592</td>\n",
       "      <td>NaN</td>\n",
       "      <td>17.0</td>\n",
       "    </tr>\n",
       "  </tbody>\n",
       "</table>\n",
       "<p>691 rows × 5 columns</p>\n",
       "</div>"
      ],
      "text/plain": [
       "          Categoria        Data               Lançamento Valor (R$)  Valor ()\n",
       "0           Aluguel  19/08/2022  Quintoandar       05/05       45.8       NaN\n",
       "1    Utilidade Casa  09/09/2022  Leroy Merlin      04/04     109.73       NaN\n",
       "2            Planos  11/09/2022  Elaza Comercial Va04/10      290.0       NaN\n",
       "3        Eletrônico  13/09/2022  Aliexpress        04/06      20.87       NaN\n",
       "4        Eletrônico  13/09/2022  Aliexpress        04/06       22.6       NaN\n",
       "..              ...         ...                      ...        ...       ...\n",
       "686      Assinatura  12/02/2023            Amazonprimebr        NaN      15.0\n",
       "687      Assinatura  13/02/2023           Google Storage        NaN      35.0\n",
       "688     Restaurante  16/02/2023   Market4u*compra*118685        NaN       3.0\n",
       "689      Assinatura  19/02/2023    Google Youtubepremium        NaN      21.0\n",
       "690     Restaurante  21/02/2023   Market4u*compra*119592        NaN      17.0\n",
       "\n",
       "[691 rows x 5 columns]"
      ]
     },
     "execution_count": 55,
     "metadata": {},
     "output_type": "execute_result"
    }
   ],
   "source": [
    "df"
   ]
  },
  {
   "cell_type": "code",
   "execution_count": 50,
   "id": "6aadc653-64d3-41bf-b33b-20c9bc920e9f",
   "metadata": {
    "execution": {
     "iopub.execute_input": "2023-03-16T02:11:20.827177Z",
     "iopub.status.busy": "2023-03-16T02:11:20.826175Z",
     "iopub.status.idle": "2023-03-16T02:11:20.840179Z",
     "shell.execute_reply": "2023-03-16T02:11:20.839179Z",
     "shell.execute_reply.started": "2023-03-16T02:11:20.827177Z"
    },
    "tags": []
   },
   "outputs": [],
   "source": [
    "# Tratamento Dataframe\n",
    "\n",
    "df['Valor (R$)'] = np.where(df['Valor (R$)'].isnull(), df['Valor ()'],df['Valor (R$)'])\n",
    "\n",
    "df.drop(columns='Valor ()',inplace=True)\n",
    "\n",
    "df['Lançamento'] = df['Lançamento'].astype('string')\n",
    "df['Valor (R$)'] = df['Valor (R$)'].astype('float64')"
   ]
  },
  {
   "cell_type": "code",
   "execution_count": 62,
   "id": "3040e010",
   "metadata": {},
   "outputs": [
    {
     "data": {
      "text/plain": [
       "0                quintoandar\n",
       "1               leroy merlin\n",
       "2         elaza comercial va\n",
       "3                 aliexpress\n",
       "4                 aliexpress\n",
       "               ...          \n",
       "686            amazonprimebr\n",
       "687           google storage\n",
       "688          market u compra\n",
       "689    google youtubepremium\n",
       "690          market u compra\n",
       "Name: Lançamento, Length: 691, dtype: object"
      ]
     },
     "execution_count": 62,
     "metadata": {},
     "output_type": "execute_result"
    }
   ],
   "source": [
    "df['Lançamento'] "
   ]
  },
  {
   "cell_type": "code",
   "execution_count": 63,
   "id": "f75e903a-4a49-448b-8934-275b15d80f4f",
   "metadata": {
    "execution": {
     "iopub.execute_input": "2023-03-16T02:11:20.937201Z",
     "iopub.status.busy": "2023-03-16T02:11:20.937201Z",
     "iopub.status.idle": "2023-03-16T02:11:20.949203Z",
     "shell.execute_reply": "2023-03-16T02:11:20.948203Z",
     "shell.execute_reply.started": "2023-03-16T02:11:20.937201Z"
    },
    "tags": []
   },
   "outputs": [],
   "source": [
    "#Tratamento pré treino\n",
    "\n",
    "df['Lançamento'] = df['Lançamento'].apply(just_string)\n",
    "\n",
    "df[['Lançamento','Categoria']] = df[['Lançamento','Categoria']].applymap(lambda x: x.lower() if type(x) != float else np.nan)"
   ]
  },
  {
   "attachments": {},
   "cell_type": "markdown",
   "id": "a4f7c441",
   "metadata": {},
   "source": [
    "# Fast EDA"
   ]
  },
  {
   "cell_type": "code",
   "execution_count": 14,
   "id": "c81ab0f8-7148-4a24-b249-d7e5d8c1930e",
   "metadata": {
    "execution": {
     "iopub.execute_input": "2023-03-16T02:11:20.857183Z",
     "iopub.status.busy": "2023-03-16T02:11:20.857183Z",
     "iopub.status.idle": "2023-03-16T02:11:20.872186Z",
     "shell.execute_reply": "2023-03-16T02:11:20.871186Z",
     "shell.execute_reply.started": "2023-03-16T02:11:20.857183Z"
    },
    "tags": []
   },
   "outputs": [
    {
     "data": {
      "text/plain": [
       "Alimentação        122\n",
       "Restaurante         92\n",
       "Assinatura          60\n",
       "Planos              59\n",
       "Utilidade Casa      58\n",
       "Eletrônico          50\n",
       "Outros              40\n",
       "Pet                 36\n",
       "Produtos Saúde      25\n",
       "Vestimenta          22\n",
       "Locomoção           20\n",
       "Manutenção          15\n",
       "Exterior            12\n",
       "Estacionamento      12\n",
       "Seguro              10\n",
       "Ferramentas          8\n",
       "Necessários          7\n",
       "Celular              7\n",
       "Livros               7\n",
       "Combustível          7\n",
       "Internet             5\n",
       "Aluguel              4\n",
       "Presentes            4\n",
       "Opcionais            3\n",
       "Telefone             2\n",
       "Viagem               2\n",
       "Higiene Pessoal      1\n",
       "Name: Categoria, dtype: int64"
      ]
     },
     "execution_count": 14,
     "metadata": {},
     "output_type": "execute_result"
    }
   ],
   "source": [
    "df.Categoria.value_counts()"
   ]
  },
  {
   "cell_type": "code",
   "execution_count": 40,
   "id": "e2cbb20c-24a0-40dd-a672-ad04d2862053",
   "metadata": {
    "execution": {
     "iopub.execute_input": "2023-03-16T02:11:20.874187Z",
     "iopub.status.busy": "2023-03-16T02:11:20.874187Z",
     "iopub.status.idle": "2023-03-16T02:11:20.903194Z",
     "shell.execute_reply": "2023-03-16T02:11:20.902192Z",
     "shell.execute_reply.started": "2023-03-16T02:11:20.874187Z"
    },
    "tags": []
   },
   "outputs": [
    {
     "name": "stderr",
     "output_type": "stream",
     "text": [
      "C:\\Users\\rodri\\AppData\\Local\\Temp\\ipykernel_15640\\727449858.py:1: FutureWarning: The default value of numeric_only in DataFrameGroupBy.mean is deprecated. In a future version, numeric_only will default to False. Either specify numeric_only or select only columns which should be valid for the function.\n",
      "  df.groupby('Categoria').mean()\n"
     ]
    },
    {
     "data": {
      "text/html": [
       "<div>\n",
       "<style scoped>\n",
       "    .dataframe tbody tr th:only-of-type {\n",
       "        vertical-align: middle;\n",
       "    }\n",
       "\n",
       "    .dataframe tbody tr th {\n",
       "        vertical-align: top;\n",
       "    }\n",
       "\n",
       "    .dataframe thead th {\n",
       "        text-align: right;\n",
       "    }\n",
       "</style>\n",
       "<table border=\"1\" class=\"dataframe\">\n",
       "  <thead>\n",
       "    <tr style=\"text-align: right;\">\n",
       "      <th></th>\n",
       "      <th>Valor (R$)</th>\n",
       "      <th>Valor ()</th>\n",
       "    </tr>\n",
       "    <tr>\n",
       "      <th>Categoria</th>\n",
       "      <th></th>\n",
       "      <th></th>\n",
       "    </tr>\n",
       "  </thead>\n",
       "  <tbody>\n",
       "    <tr>\n",
       "      <th>alimentação</th>\n",
       "      <td>55.673689</td>\n",
       "      <td>78.928571</td>\n",
       "    </tr>\n",
       "    <tr>\n",
       "      <th>aluguel</th>\n",
       "      <td>45.800000</td>\n",
       "      <td>NaN</td>\n",
       "    </tr>\n",
       "    <tr>\n",
       "      <th>assinatura</th>\n",
       "      <td>30.374500</td>\n",
       "      <td>28.000000</td>\n",
       "    </tr>\n",
       "    <tr>\n",
       "      <th>celular</th>\n",
       "      <td>26.134286</td>\n",
       "      <td>30.000000</td>\n",
       "    </tr>\n",
       "    <tr>\n",
       "      <th>combustível</th>\n",
       "      <td>118.438571</td>\n",
       "      <td>161.000000</td>\n",
       "    </tr>\n",
       "    <tr>\n",
       "      <th>eletrônico</th>\n",
       "      <td>40.003400</td>\n",
       "      <td>33.875000</td>\n",
       "    </tr>\n",
       "    <tr>\n",
       "      <th>estacionamento</th>\n",
       "      <td>21.583333</td>\n",
       "      <td>37.500000</td>\n",
       "    </tr>\n",
       "    <tr>\n",
       "      <th>exterior</th>\n",
       "      <td>58.228333</td>\n",
       "      <td>NaN</td>\n",
       "    </tr>\n",
       "    <tr>\n",
       "      <th>ferramentas</th>\n",
       "      <td>39.751250</td>\n",
       "      <td>60.000000</td>\n",
       "    </tr>\n",
       "    <tr>\n",
       "      <th>higiene pessoal</th>\n",
       "      <td>48.900000</td>\n",
       "      <td>NaN</td>\n",
       "    </tr>\n",
       "    <tr>\n",
       "      <th>internet</th>\n",
       "      <td>259.548000</td>\n",
       "      <td>260.000000</td>\n",
       "    </tr>\n",
       "    <tr>\n",
       "      <th>livros</th>\n",
       "      <td>83.955714</td>\n",
       "      <td>62.000000</td>\n",
       "    </tr>\n",
       "    <tr>\n",
       "      <th>locomoção</th>\n",
       "      <td>21.615500</td>\n",
       "      <td>NaN</td>\n",
       "    </tr>\n",
       "    <tr>\n",
       "      <th>manutenção</th>\n",
       "      <td>43.835333</td>\n",
       "      <td>39.500000</td>\n",
       "    </tr>\n",
       "    <tr>\n",
       "      <th>necessários</th>\n",
       "      <td>41.655714</td>\n",
       "      <td>NaN</td>\n",
       "    </tr>\n",
       "    <tr>\n",
       "      <th>opcionais</th>\n",
       "      <td>25.993333</td>\n",
       "      <td>31.500000</td>\n",
       "    </tr>\n",
       "    <tr>\n",
       "      <th>outros</th>\n",
       "      <td>22.623500</td>\n",
       "      <td>24.250000</td>\n",
       "    </tr>\n",
       "    <tr>\n",
       "      <th>pet</th>\n",
       "      <td>97.557222</td>\n",
       "      <td>104.000000</td>\n",
       "    </tr>\n",
       "    <tr>\n",
       "      <th>planos</th>\n",
       "      <td>569.767966</td>\n",
       "      <td>153.500000</td>\n",
       "    </tr>\n",
       "    <tr>\n",
       "      <th>presentes</th>\n",
       "      <td>52.495000</td>\n",
       "      <td>NaN</td>\n",
       "    </tr>\n",
       "    <tr>\n",
       "      <th>produtos saúde</th>\n",
       "      <td>92.383200</td>\n",
       "      <td>107.333333</td>\n",
       "    </tr>\n",
       "    <tr>\n",
       "      <th>restaurante</th>\n",
       "      <td>44.705652</td>\n",
       "      <td>45.000000</td>\n",
       "    </tr>\n",
       "    <tr>\n",
       "      <th>seguro</th>\n",
       "      <td>216.449000</td>\n",
       "      <td>232.000000</td>\n",
       "    </tr>\n",
       "    <tr>\n",
       "      <th>telefone</th>\n",
       "      <td>37.495000</td>\n",
       "      <td>NaN</td>\n",
       "    </tr>\n",
       "    <tr>\n",
       "      <th>utilidade casa</th>\n",
       "      <td>68.644138</td>\n",
       "      <td>67.875000</td>\n",
       "    </tr>\n",
       "    <tr>\n",
       "      <th>vestimenta</th>\n",
       "      <td>45.056364</td>\n",
       "      <td>83.000000</td>\n",
       "    </tr>\n",
       "    <tr>\n",
       "      <th>viagem</th>\n",
       "      <td>145.750000</td>\n",
       "      <td>146.000000</td>\n",
       "    </tr>\n",
       "  </tbody>\n",
       "</table>\n",
       "</div>"
      ],
      "text/plain": [
       "                 Valor (R$)    Valor ()\n",
       "Categoria                              \n",
       "alimentação       55.673689   78.928571\n",
       "aluguel           45.800000         NaN\n",
       "assinatura        30.374500   28.000000\n",
       "celular           26.134286   30.000000\n",
       "combustível      118.438571  161.000000\n",
       "eletrônico        40.003400   33.875000\n",
       "estacionamento    21.583333   37.500000\n",
       "exterior          58.228333         NaN\n",
       "ferramentas       39.751250   60.000000\n",
       "higiene pessoal   48.900000         NaN\n",
       "internet         259.548000  260.000000\n",
       "livros            83.955714   62.000000\n",
       "locomoção         21.615500         NaN\n",
       "manutenção        43.835333   39.500000\n",
       "necessários       41.655714         NaN\n",
       "opcionais         25.993333   31.500000\n",
       "outros            22.623500   24.250000\n",
       "pet               97.557222  104.000000\n",
       "planos           569.767966  153.500000\n",
       "presentes         52.495000         NaN\n",
       "produtos saúde    92.383200  107.333333\n",
       "restaurante       44.705652   45.000000\n",
       "seguro           216.449000  232.000000\n",
       "telefone          37.495000         NaN\n",
       "utilidade casa    68.644138   67.875000\n",
       "vestimenta        45.056364   83.000000\n",
       "viagem           145.750000  146.000000"
      ]
     },
     "execution_count": 40,
     "metadata": {},
     "output_type": "execute_result"
    }
   ],
   "source": [
    "df.groupby('Categoria').mean()"
   ]
  },
  {
   "cell_type": "code",
   "execution_count": 16,
   "id": "fd36b664-59ae-46ee-9b4d-51bf9db8d424",
   "metadata": {
    "execution": {
     "iopub.execute_input": "2023-03-16T02:11:20.905193Z",
     "iopub.status.busy": "2023-03-16T02:11:20.904193Z",
     "iopub.status.idle": "2023-03-16T02:11:20.918196Z",
     "shell.execute_reply": "2023-03-16T02:11:20.917196Z",
     "shell.execute_reply.started": "2023-03-16T02:11:20.905193Z"
    },
    "tags": []
   },
   "outputs": [
    {
     "name": "stdout",
     "output_type": "stream",
     "text": [
      "<class 'pandas.core.frame.DataFrame'>\n",
      "RangeIndex: 691 entries, 0 to 690\n",
      "Data columns (total 5 columns):\n",
      " #   Column      Non-Null Count  Dtype  \n",
      "---  ------      --------------  -----  \n",
      " 0   Categoria   690 non-null    object \n",
      " 1   Data        691 non-null    object \n",
      " 2   Lançamento  690 non-null    string \n",
      " 3   Valor (R$)  608 non-null    float64\n",
      " 4   Valor ()    83 non-null     float64\n",
      "dtypes: float64(2), object(2), string(1)\n",
      "memory usage: 27.1+ KB\n"
     ]
    }
   ],
   "source": [
    "df.info()"
   ]
  },
  {
   "cell_type": "code",
   "execution_count": 20,
   "id": "72d89e23-7487-4f94-a913-d7a42eff913d",
   "metadata": {
    "execution": {
     "iopub.execute_input": "2023-03-16T02:11:20.967208Z",
     "iopub.status.busy": "2023-03-16T02:11:20.966207Z",
     "iopub.status.idle": "2023-03-16T02:11:20.981210Z",
     "shell.execute_reply": "2023-03-16T02:11:20.980210Z",
     "shell.execute_reply.started": "2023-03-16T02:11:20.967208Z"
    },
    "tags": []
   },
   "outputs": [
    {
     "data": {
      "text/plain": [
       "0                quintoandar\n",
       "1               leroy merlin\n",
       "2         elaza comercial va\n",
       "3                 aliexpress\n",
       "4                 aliexpress\n",
       "               ...          \n",
       "686            amazonprimebr\n",
       "687           google storage\n",
       "688          market u compra\n",
       "689    google youtubepremium\n",
       "690          market u compra\n",
       "Name: Lançamento, Length: 691, dtype: object"
      ]
     },
     "execution_count": 20,
     "metadata": {},
     "output_type": "execute_result"
    }
   ],
   "source": [
    "df['Lançamento'] "
   ]
  },
  {
   "cell_type": "code",
   "execution_count": 21,
   "id": "8e344dc8-501e-488e-b17a-b43cac67bb78",
   "metadata": {
    "execution": {
     "iopub.execute_input": "2023-03-16T02:11:20.982210Z",
     "iopub.status.busy": "2023-03-16T02:11:20.982210Z",
     "iopub.status.idle": "2023-03-16T02:11:20.997214Z",
     "shell.execute_reply": "2023-03-16T02:11:20.996214Z",
     "shell.execute_reply.started": "2023-03-16T02:11:20.982210Z"
    },
    "tags": []
   },
   "outputs": [
    {
     "data": {
      "text/plain": [
       "(691, 5)"
      ]
     },
     "execution_count": 21,
     "metadata": {},
     "output_type": "execute_result"
    }
   ],
   "source": [
    "df.shape"
   ]
  },
  {
   "cell_type": "code",
   "execution_count": 23,
   "id": "2896c712-55b9-464a-b0a7-0478329f5cc4",
   "metadata": {
    "execution": {
     "iopub.execute_input": "2023-03-16T02:11:21.015218Z",
     "iopub.status.busy": "2023-03-16T02:11:21.014217Z",
     "iopub.status.idle": "2023-03-16T02:11:21.029221Z",
     "shell.execute_reply": "2023-03-16T02:11:21.028221Z",
     "shell.execute_reply.started": "2023-03-16T02:11:21.015218Z"
    },
    "tags": []
   },
   "outputs": [
    {
     "data": {
      "text/plain": [
       "0             aluguel\n",
       "1      utilidade casa\n",
       "2              planos\n",
       "3          eletrônico\n",
       "4          eletrônico\n",
       "            ...      \n",
       "686        assinatura\n",
       "687        assinatura\n",
       "688       restaurante\n",
       "689        assinatura\n",
       "690       restaurante\n",
       "Name: Categoria, Length: 691, dtype: object"
      ]
     },
     "execution_count": 23,
     "metadata": {},
     "output_type": "execute_result"
    }
   ],
   "source": [
    "df['Categoria']"
   ]
  },
  {
   "cell_type": "code",
   "execution_count": 24,
   "id": "80e515b7-c5ed-424d-8026-a11eb47d9fe8",
   "metadata": {
    "execution": {
     "iopub.execute_input": "2023-03-16T02:11:23.738829Z",
     "iopub.status.busy": "2023-03-16T02:11:23.737828Z",
     "iopub.status.idle": "2023-03-16T02:11:23.761833Z",
     "shell.execute_reply": "2023-03-16T02:11:23.761833Z",
     "shell.execute_reply.started": "2023-03-16T02:11:23.738829Z"
    },
    "tags": []
   },
   "outputs": [
    {
     "data": {
      "text/html": [
       "<div>\n",
       "<style scoped>\n",
       "    .dataframe tbody tr th:only-of-type {\n",
       "        vertical-align: middle;\n",
       "    }\n",
       "\n",
       "    .dataframe tbody tr th {\n",
       "        vertical-align: top;\n",
       "    }\n",
       "\n",
       "    .dataframe thead th {\n",
       "        text-align: right;\n",
       "    }\n",
       "</style>\n",
       "<table border=\"1\" class=\"dataframe\">\n",
       "  <thead>\n",
       "    <tr style=\"text-align: right;\">\n",
       "      <th></th>\n",
       "      <th>Categoria</th>\n",
       "      <th>Data</th>\n",
       "      <th>Lançamento</th>\n",
       "      <th>Valor (R$)</th>\n",
       "      <th>Valor ()</th>\n",
       "    </tr>\n",
       "  </thead>\n",
       "  <tbody>\n",
       "    <tr>\n",
       "      <th>0</th>\n",
       "      <td>aluguel</td>\n",
       "      <td>19/08/2022</td>\n",
       "      <td>quintoandar</td>\n",
       "      <td>45.80</td>\n",
       "      <td>NaN</td>\n",
       "    </tr>\n",
       "    <tr>\n",
       "      <th>1</th>\n",
       "      <td>utilidade casa</td>\n",
       "      <td>09/09/2022</td>\n",
       "      <td>leroy merlin</td>\n",
       "      <td>109.73</td>\n",
       "      <td>NaN</td>\n",
       "    </tr>\n",
       "    <tr>\n",
       "      <th>2</th>\n",
       "      <td>planos</td>\n",
       "      <td>11/09/2022</td>\n",
       "      <td>elaza comercial va</td>\n",
       "      <td>290.00</td>\n",
       "      <td>NaN</td>\n",
       "    </tr>\n",
       "    <tr>\n",
       "      <th>3</th>\n",
       "      <td>eletrônico</td>\n",
       "      <td>13/09/2022</td>\n",
       "      <td>aliexpress</td>\n",
       "      <td>20.87</td>\n",
       "      <td>NaN</td>\n",
       "    </tr>\n",
       "    <tr>\n",
       "      <th>4</th>\n",
       "      <td>eletrônico</td>\n",
       "      <td>13/09/2022</td>\n",
       "      <td>aliexpress</td>\n",
       "      <td>22.60</td>\n",
       "      <td>NaN</td>\n",
       "    </tr>\n",
       "    <tr>\n",
       "      <th>...</th>\n",
       "      <td>...</td>\n",
       "      <td>...</td>\n",
       "      <td>...</td>\n",
       "      <td>...</td>\n",
       "      <td>...</td>\n",
       "    </tr>\n",
       "    <tr>\n",
       "      <th>686</th>\n",
       "      <td>assinatura</td>\n",
       "      <td>12/02/2023</td>\n",
       "      <td>amazonprimebr</td>\n",
       "      <td>NaN</td>\n",
       "      <td>15.0</td>\n",
       "    </tr>\n",
       "    <tr>\n",
       "      <th>687</th>\n",
       "      <td>assinatura</td>\n",
       "      <td>13/02/2023</td>\n",
       "      <td>google storage</td>\n",
       "      <td>NaN</td>\n",
       "      <td>35.0</td>\n",
       "    </tr>\n",
       "    <tr>\n",
       "      <th>688</th>\n",
       "      <td>restaurante</td>\n",
       "      <td>16/02/2023</td>\n",
       "      <td>market u compra</td>\n",
       "      <td>NaN</td>\n",
       "      <td>3.0</td>\n",
       "    </tr>\n",
       "    <tr>\n",
       "      <th>689</th>\n",
       "      <td>assinatura</td>\n",
       "      <td>19/02/2023</td>\n",
       "      <td>google youtubepremium</td>\n",
       "      <td>NaN</td>\n",
       "      <td>21.0</td>\n",
       "    </tr>\n",
       "    <tr>\n",
       "      <th>690</th>\n",
       "      <td>restaurante</td>\n",
       "      <td>21/02/2023</td>\n",
       "      <td>market u compra</td>\n",
       "      <td>NaN</td>\n",
       "      <td>17.0</td>\n",
       "    </tr>\n",
       "  </tbody>\n",
       "</table>\n",
       "<p>691 rows × 5 columns</p>\n",
       "</div>"
      ],
      "text/plain": [
       "          Categoria        Data             Lançamento  Valor (R$)  Valor ()\n",
       "0           aluguel  19/08/2022            quintoandar       45.80       NaN\n",
       "1    utilidade casa  09/09/2022           leroy merlin      109.73       NaN\n",
       "2            planos  11/09/2022     elaza comercial va      290.00       NaN\n",
       "3        eletrônico  13/09/2022             aliexpress       20.87       NaN\n",
       "4        eletrônico  13/09/2022             aliexpress       22.60       NaN\n",
       "..              ...         ...                    ...         ...       ...\n",
       "686      assinatura  12/02/2023          amazonprimebr         NaN      15.0\n",
       "687      assinatura  13/02/2023         google storage         NaN      35.0\n",
       "688     restaurante  16/02/2023        market u compra         NaN       3.0\n",
       "689      assinatura  19/02/2023  google youtubepremium         NaN      21.0\n",
       "690     restaurante  21/02/2023        market u compra         NaN      17.0\n",
       "\n",
       "[691 rows x 5 columns]"
      ]
     },
     "execution_count": 24,
     "metadata": {},
     "output_type": "execute_result"
    }
   ],
   "source": [
    "df"
   ]
  },
  {
   "cell_type": "code",
   "execution_count": 25,
   "id": "7159ddce-3b83-4da0-a5c6-5bb3471b29d5",
   "metadata": {
    "execution": {
     "iopub.execute_input": "2023-03-16T02:17:43.566265Z",
     "iopub.status.busy": "2023-03-16T02:17:43.566265Z",
     "iopub.status.idle": "2023-03-16T02:17:43.576267Z",
     "shell.execute_reply": "2023-03-16T02:17:43.576267Z",
     "shell.execute_reply.started": "2023-03-16T02:17:43.566265Z"
    },
    "tags": []
   },
   "outputs": [],
   "source": []
  },
  {
   "cell_type": "code",
   "execution_count": 26,
   "id": "8df71626-e5d2-4122-a21b-260b7797a9fe",
   "metadata": {
    "execution": {
     "iopub.execute_input": "2023-03-16T02:31:43.825108Z",
     "iopub.status.busy": "2023-03-16T02:31:43.825108Z",
     "iopub.status.idle": "2023-03-16T02:31:44.141609Z",
     "shell.execute_reply": "2023-03-16T02:31:44.141609Z",
     "shell.execute_reply.started": "2023-03-16T02:31:43.825108Z"
    },
    "tags": []
   },
   "outputs": [
    {
     "data": {
      "text/plain": [
       "<AxesSubplot: xlabel='Valor (R$)', ylabel='Categoria'>"
      ]
     },
     "execution_count": 26,
     "metadata": {},
     "output_type": "execute_result"
    },
    {
     "data": {
      "image/png": "[encoded data removed]",
      "text/plain": [
       "<Figure size 640x480 with 1 Axes>"
      ]
     },
     "metadata": {},
     "output_type": "display_data"
    }
   ],
   "source": [
    "sns.boxplot(df,x='Valor (R$)',y='Categoria')"
   ]
  },
  {
   "cell_type": "markdown",
   "id": "c154c86d-55be-4493-a970-083d1fcff02d",
   "metadata": {},
   "source": [
    "# Model"
   ]
  },
  {
   "cell_type": "code",
   "execution_count": 27,
   "id": "1d36767e-37e8-4dbe-9077-005c49903e9a",
   "metadata": {
    "execution": {
     "iopub.execute_input": "2023-03-16T02:18:08.328055Z",
     "iopub.status.busy": "2023-03-16T02:18:08.327055Z",
     "iopub.status.idle": "2023-03-16T02:18:08.347059Z",
     "shell.execute_reply": "2023-03-16T02:18:08.346060Z",
     "shell.execute_reply.started": "2023-03-16T02:18:08.328055Z"
    },
    "tags": []
   },
   "outputs": [],
   "source": [
    "df_model = df[['Lançamento','Categoria','Valor (R$)']].dropna()"
   ]
  },
  {
   "cell_type": "code",
   "execution_count": 28,
   "id": "d8177b66-4a4c-4075-894f-9d3d15ae3d3c",
   "metadata": {
    "execution": {
     "iopub.execute_input": "2023-03-16T02:18:33.065114Z",
     "iopub.status.busy": "2023-03-16T02:18:33.064113Z",
     "iopub.status.idle": "2023-03-16T02:18:33.081117Z",
     "shell.execute_reply": "2023-03-16T02:18:33.080117Z",
     "shell.execute_reply.started": "2023-03-16T02:18:33.065114Z"
    },
    "tags": []
   },
   "outputs": [],
   "source": [
    "from sklearn.model_selection import train_test_split\n",
    "\n",
    "X_train, X_test, y_train, y_test = train_test_split(df_model[['Lançamento','Valor (R$)']], df_model['Categoria'], test_size=0.3, random_state=0)"
   ]
  },
  {
   "cell_type": "code",
   "execution_count": 29,
   "id": "1111bf6f-a410-4361-80de-482801ae2243",
   "metadata": {
    "execution": {
     "iopub.execute_input": "2023-03-16T02:18:33.951312Z",
     "iopub.status.busy": "2023-03-16T02:18:33.951312Z",
     "iopub.status.idle": "2023-03-16T02:18:33.970316Z",
     "shell.execute_reply": "2023-03-16T02:18:33.969317Z",
     "shell.execute_reply.started": "2023-03-16T02:18:33.951312Z"
    },
    "tags": []
   },
   "outputs": [
    {
     "data": {
      "text/html": [
       "<div>\n",
       "<style scoped>\n",
       "    .dataframe tbody tr th:only-of-type {\n",
       "        vertical-align: middle;\n",
       "    }\n",
       "\n",
       "    .dataframe tbody tr th {\n",
       "        vertical-align: top;\n",
       "    }\n",
       "\n",
       "    .dataframe thead th {\n",
       "        text-align: right;\n",
       "    }\n",
       "</style>\n",
       "<table border=\"1\" class=\"dataframe\">\n",
       "  <thead>\n",
       "    <tr style=\"text-align: right;\">\n",
       "      <th></th>\n",
       "      <th>Lançamento</th>\n",
       "      <th>Valor (R$)</th>\n",
       "    </tr>\n",
       "  </thead>\n",
       "  <tbody>\n",
       "    <tr>\n",
       "      <th>597</th>\n",
       "      <td>market u compra</td>\n",
       "      <td>3.99</td>\n",
       "    </tr>\n",
       "    <tr>\n",
       "      <th>303</th>\n",
       "      <td>lojao de var ct des</td>\n",
       "      <td>66.40</td>\n",
       "    </tr>\n",
       "    <tr>\n",
       "      <th>204</th>\n",
       "      <td>pag josecarlosdeaguia</td>\n",
       "      <td>2.00</td>\n",
       "    </tr>\n",
       "    <tr>\n",
       "      <th>351</th>\n",
       "      <td>pao pao queijo queij</td>\n",
       "      <td>87.67</td>\n",
       "    </tr>\n",
       "    <tr>\n",
       "      <th>118</th>\n",
       "      <td>ifood ifood</td>\n",
       "      <td>50.96</td>\n",
       "    </tr>\n",
       "    <tr>\n",
       "      <th>...</th>\n",
       "      <td>...</td>\n",
       "      <td>...</td>\n",
       "    </tr>\n",
       "    <tr>\n",
       "      <th>359</th>\n",
       "      <td>pag thiagodiasmoretti</td>\n",
       "      <td>32.00</td>\n",
       "    </tr>\n",
       "    <tr>\n",
       "      <th>192</th>\n",
       "      <td>kinvo</td>\n",
       "      <td>59.95</td>\n",
       "    </tr>\n",
       "    <tr>\n",
       "      <th>630</th>\n",
       "      <td>conta vivo</td>\n",
       "      <td>260.00</td>\n",
       "    </tr>\n",
       "    <tr>\n",
       "      <th>560</th>\n",
       "      <td>cornershop brasil tecn</td>\n",
       "      <td>121.34</td>\n",
       "    </tr>\n",
       "    <tr>\n",
       "      <th>685</th>\n",
       "      <td>conectcar conectcar</td>\n",
       "      <td>50.00</td>\n",
       "    </tr>\n",
       "  </tbody>\n",
       "</table>\n",
       "<p>483 rows × 2 columns</p>\n",
       "</div>"
      ],
      "text/plain": [
       "                 Lançamento  Valor (R$)\n",
       "597         market u compra        3.99\n",
       "303     lojao de var ct des       66.40\n",
       "204   pag josecarlosdeaguia        2.00\n",
       "351    pao pao queijo queij       87.67\n",
       "118             ifood ifood       50.96\n",
       "..                      ...         ...\n",
       "359   pag thiagodiasmoretti       32.00\n",
       "192                   kinvo       59.95\n",
       "630              conta vivo      260.00\n",
       "560  cornershop brasil tecn      121.34\n",
       "685     conectcar conectcar       50.00\n",
       "\n",
       "[483 rows x 2 columns]"
      ]
     },
     "execution_count": 29,
     "metadata": {},
     "output_type": "execute_result"
    }
   ],
   "source": [
    "X_train"
   ]
  },
  {
   "cell_type": "code",
   "execution_count": 30,
   "id": "ba84edd6-8098-4899-b511-71dd8688ea24",
   "metadata": {
    "execution": {
     "iopub.execute_input": "2023-03-16T02:09:25.487141Z",
     "iopub.status.busy": "2023-03-16T02:09:25.487141Z",
     "iopub.status.idle": "2023-03-16T02:09:25.502145Z",
     "shell.execute_reply": "2023-03-16T02:09:25.502145Z",
     "shell.execute_reply.started": "2023-03-16T02:09:25.487141Z"
    },
    "tags": []
   },
   "outputs": [],
   "source": [
    "from sklearn.feature_extraction.text import CountVectorizer"
   ]
  },
  {
   "cell_type": "code",
   "execution_count": 31,
   "id": "6310cc28-1744-42f8-bd4e-744653ee9a34",
   "metadata": {
    "execution": {
     "iopub.execute_input": "2023-03-16T02:09:25.505145Z",
     "iopub.status.busy": "2023-03-16T02:09:25.505145Z",
     "iopub.status.idle": "2023-03-16T02:09:25.519148Z",
     "shell.execute_reply": "2023-03-16T02:09:25.518149Z",
     "shell.execute_reply.started": "2023-03-16T02:09:25.505145Z"
    },
    "tags": []
   },
   "outputs": [
    {
     "data": {
      "text/plain": [
       "(2, 2)"
      ]
     },
     "execution_count": 31,
     "metadata": {},
     "output_type": "execute_result"
    }
   ],
   "source": [
    "cv = CountVectorizer()\n",
    "\n",
    "X_train_cv = cv.fit_transform(X_train)\n",
    "\n",
    "X_train_cv.shape"
   ]
  },
  {
   "cell_type": "code",
   "execution_count": 32,
   "id": "2b4d7828-7342-460b-ba93-67ce36242fb3",
   "metadata": {
    "execution": {
     "iopub.execute_input": "2023-03-16T02:09:25.520149Z",
     "iopub.status.busy": "2023-03-16T02:09:25.520149Z",
     "iopub.status.idle": "2023-03-16T02:09:25.533152Z",
     "shell.execute_reply": "2023-03-16T02:09:25.533152Z",
     "shell.execute_reply.started": "2023-03-16T02:09:25.520149Z"
    },
    "tags": []
   },
   "outputs": [
    {
     "data": {
      "text/plain": [
       "<2x2 sparse matrix of type '<class 'numpy.int64'>'\n",
       "\twith 2 stored elements in Compressed Sparse Row format>"
      ]
     },
     "execution_count": 32,
     "metadata": {},
     "output_type": "execute_result"
    }
   ],
   "source": [
    "X_train_cv"
   ]
  },
  {
   "cell_type": "code",
   "execution_count": 33,
   "id": "d9e8d49b-1ae8-4e54-ae61-046f0b0dc4d8",
   "metadata": {
    "execution": {
     "iopub.execute_input": "2023-03-16T02:09:25.534152Z",
     "iopub.status.busy": "2023-03-16T02:09:25.534152Z",
     "iopub.status.idle": "2023-03-16T02:09:25.550155Z",
     "shell.execute_reply": "2023-03-16T02:09:25.549156Z",
     "shell.execute_reply.started": "2023-03-16T02:09:25.534152Z"
    },
    "tags": []
   },
   "outputs": [
    {
     "data": {
      "text/plain": [
       "0    0\n",
       "1    0\n",
       "dtype: int64"
      ]
     },
     "execution_count": 33,
     "metadata": {},
     "output_type": "execute_result"
    }
   ],
   "source": [
    "pd.DataFrame(X_train_cv.toarray()).isnull().sum()"
   ]
  },
  {
   "cell_type": "code",
   "execution_count": 34,
   "id": "815084ff-5484-454c-add7-2cf3dc8add64",
   "metadata": {
    "execution": {
     "iopub.execute_input": "2023-03-16T02:09:25.551156Z",
     "iopub.status.busy": "2023-03-16T02:09:25.551156Z",
     "iopub.status.idle": "2023-03-16T02:09:25.565158Z",
     "shell.execute_reply": "2023-03-16T02:09:25.564158Z",
     "shell.execute_reply.started": "2023-03-16T02:09:25.551156Z"
    },
    "tags": []
   },
   "outputs": [
    {
     "data": {
      "text/html": [
       "<div>\n",
       "<style scoped>\n",
       "    .dataframe tbody tr th:only-of-type {\n",
       "        vertical-align: middle;\n",
       "    }\n",
       "\n",
       "    .dataframe tbody tr th {\n",
       "        vertical-align: top;\n",
       "    }\n",
       "\n",
       "    .dataframe thead th {\n",
       "        text-align: right;\n",
       "    }\n",
       "</style>\n",
       "<table border=\"1\" class=\"dataframe\">\n",
       "  <thead>\n",
       "    <tr style=\"text-align: right;\">\n",
       "      <th></th>\n",
       "      <th>Lançamento</th>\n",
       "      <th>Valor (R$)</th>\n",
       "    </tr>\n",
       "  </thead>\n",
       "  <tbody>\n",
       "    <tr>\n",
       "      <th>597</th>\n",
       "      <td>market u compra</td>\n",
       "      <td>3.99</td>\n",
       "    </tr>\n",
       "    <tr>\n",
       "      <th>303</th>\n",
       "      <td>lojao de var ct des</td>\n",
       "      <td>66.40</td>\n",
       "    </tr>\n",
       "    <tr>\n",
       "      <th>204</th>\n",
       "      <td>pag josecarlosdeaguia</td>\n",
       "      <td>2.00</td>\n",
       "    </tr>\n",
       "    <tr>\n",
       "      <th>351</th>\n",
       "      <td>pao pao queijo queij</td>\n",
       "      <td>87.67</td>\n",
       "    </tr>\n",
       "    <tr>\n",
       "      <th>118</th>\n",
       "      <td>ifood ifood</td>\n",
       "      <td>50.96</td>\n",
       "    </tr>\n",
       "    <tr>\n",
       "      <th>...</th>\n",
       "      <td>...</td>\n",
       "      <td>...</td>\n",
       "    </tr>\n",
       "    <tr>\n",
       "      <th>359</th>\n",
       "      <td>pag thiagodiasmoretti</td>\n",
       "      <td>32.00</td>\n",
       "    </tr>\n",
       "    <tr>\n",
       "      <th>192</th>\n",
       "      <td>kinvo</td>\n",
       "      <td>59.95</td>\n",
       "    </tr>\n",
       "    <tr>\n",
       "      <th>630</th>\n",
       "      <td>conta vivo</td>\n",
       "      <td>260.00</td>\n",
       "    </tr>\n",
       "    <tr>\n",
       "      <th>560</th>\n",
       "      <td>cornershop brasil tecn</td>\n",
       "      <td>121.34</td>\n",
       "    </tr>\n",
       "    <tr>\n",
       "      <th>685</th>\n",
       "      <td>conectcar conectcar</td>\n",
       "      <td>50.00</td>\n",
       "    </tr>\n",
       "  </tbody>\n",
       "</table>\n",
       "<p>483 rows × 2 columns</p>\n",
       "</div>"
      ],
      "text/plain": [
       "                 Lançamento  Valor (R$)\n",
       "597         market u compra        3.99\n",
       "303     lojao de var ct des       66.40\n",
       "204   pag josecarlosdeaguia        2.00\n",
       "351    pao pao queijo queij       87.67\n",
       "118             ifood ifood       50.96\n",
       "..                      ...         ...\n",
       "359   pag thiagodiasmoretti       32.00\n",
       "192                   kinvo       59.95\n",
       "630              conta vivo      260.00\n",
       "560  cornershop brasil tecn      121.34\n",
       "685     conectcar conectcar       50.00\n",
       "\n",
       "[483 rows x 2 columns]"
      ]
     },
     "execution_count": 34,
     "metadata": {},
     "output_type": "execute_result"
    }
   ],
   "source": [
    "X_train"
   ]
  },
  {
   "cell_type": "code",
   "execution_count": 35,
   "id": "714bc518-f26f-4722-95ee-f10356b2a5c0",
   "metadata": {
    "execution": {
     "iopub.execute_input": "2023-03-16T02:09:25.566160Z",
     "iopub.status.busy": "2023-03-16T02:09:25.566160Z",
     "iopub.status.idle": "2023-03-16T02:09:25.581163Z",
     "shell.execute_reply": "2023-03-16T02:09:25.580162Z",
     "shell.execute_reply.started": "2023-03-16T02:09:25.566160Z"
    },
    "tags": []
   },
   "outputs": [
    {
     "data": {
      "text/html": [
       "<div>\n",
       "<style scoped>\n",
       "    .dataframe tbody tr th:only-of-type {\n",
       "        vertical-align: middle;\n",
       "    }\n",
       "\n",
       "    .dataframe tbody tr th {\n",
       "        vertical-align: top;\n",
       "    }\n",
       "\n",
       "    .dataframe thead th {\n",
       "        text-align: right;\n",
       "    }\n",
       "</style>\n",
       "<table border=\"1\" class=\"dataframe\">\n",
       "  <thead>\n",
       "    <tr style=\"text-align: right;\">\n",
       "      <th></th>\n",
       "      <th>Lançamento</th>\n",
       "      <th>Valor (R$)</th>\n",
       "    </tr>\n",
       "  </thead>\n",
       "  <tbody>\n",
       "    <tr>\n",
       "      <th>14</th>\n",
       "      <td>ifood ifood</td>\n",
       "      <td>58.50</td>\n",
       "    </tr>\n",
       "    <tr>\n",
       "      <th>587</th>\n",
       "      <td>amazon marketplace</td>\n",
       "      <td>22.50</td>\n",
       "    </tr>\n",
       "    <tr>\n",
       "      <th>140</th>\n",
       "      <td>mercadolivre mercadol</td>\n",
       "      <td>-0.10</td>\n",
       "    </tr>\n",
       "    <tr>\n",
       "      <th>493</th>\n",
       "      <td>google youtube member</td>\n",
       "      <td>2.99</td>\n",
       "    </tr>\n",
       "    <tr>\n",
       "      <th>350</th>\n",
       "      <td>pasteis de belem</td>\n",
       "      <td>39.66</td>\n",
       "    </tr>\n",
       "    <tr>\n",
       "      <th>...</th>\n",
       "      <td>...</td>\n",
       "      <td>...</td>\n",
       "    </tr>\n",
       "    <tr>\n",
       "      <th>188</th>\n",
       "      <td>d lar de convers o</td>\n",
       "      <td>5.78</td>\n",
       "    </tr>\n",
       "    <tr>\n",
       "      <th>381</th>\n",
       "      <td>google play</td>\n",
       "      <td>13.74</td>\n",
       "    </tr>\n",
       "    <tr>\n",
       "      <th>369</th>\n",
       "      <td>mercadolivre mercadol</td>\n",
       "      <td>229.70</td>\n",
       "    </tr>\n",
       "    <tr>\n",
       "      <th>362</th>\n",
       "      <td>brinox brinoxshop</td>\n",
       "      <td>615.25</td>\n",
       "    </tr>\n",
       "    <tr>\n",
       "      <th>90</th>\n",
       "      <td>lojas renner fl</td>\n",
       "      <td>69.95</td>\n",
       "    </tr>\n",
       "  </tbody>\n",
       "</table>\n",
       "<p>207 rows × 2 columns</p>\n",
       "</div>"
      ],
      "text/plain": [
       "                Lançamento  Valor (R$)\n",
       "14             ifood ifood       58.50\n",
       "587     amazon marketplace       22.50\n",
       "140  mercadolivre mercadol       -0.10\n",
       "493  google youtube member        2.99\n",
       "350       pasteis de belem       39.66\n",
       "..                     ...         ...\n",
       "188     d lar de convers o        5.78\n",
       "381            google play       13.74\n",
       "369  mercadolivre mercadol      229.70\n",
       "362      brinox brinoxshop      615.25\n",
       "90         lojas renner fl       69.95\n",
       "\n",
       "[207 rows x 2 columns]"
      ]
     },
     "execution_count": 35,
     "metadata": {},
     "output_type": "execute_result"
    }
   ],
   "source": [
    "X_test"
   ]
  },
  {
   "cell_type": "code",
   "execution_count": 36,
   "id": "88627c9a-1de5-429c-85a6-52fb931a889c",
   "metadata": {
    "execution": {
     "iopub.execute_input": "2023-03-16T02:40:23.550717Z",
     "iopub.status.busy": "2023-03-16T02:40:23.550717Z",
     "iopub.status.idle": "2023-03-16T02:40:23.563719Z",
     "shell.execute_reply": "2023-03-16T02:40:23.562719Z",
     "shell.execute_reply.started": "2023-03-16T02:40:23.550717Z"
    },
    "tags": []
   },
   "outputs": [
    {
     "ename": "NameError",
     "evalue": "name 'X_test_ct' is not defined",
     "output_type": "error",
     "traceback": [
      "\u001b[1;31m---------------------------------------------------------------------------\u001b[0m",
      "\u001b[1;31mNameError\u001b[0m                                 Traceback (most recent call last)",
      "Cell \u001b[1;32mIn[36], line 1\u001b[0m\n\u001b[1;32m----> 1\u001b[0m X_test_ct\u001b[39m.\u001b[39mtoarray()\n",
      "\u001b[1;31mNameError\u001b[0m: name 'X_test_ct' is not defined"
     ]
    }
   ],
   "source": [
    "X_test_ct.toarray()"
   ]
  },
  {
   "cell_type": "code",
   "execution_count": null,
   "id": "3f2c4760-c94d-4e95-a62d-f4551e6199fa",
   "metadata": {
    "execution": {
     "iopub.execute_input": "2023-03-16T02:45:15.307757Z",
     "iopub.status.busy": "2023-03-16T02:45:15.307757Z",
     "iopub.status.idle": "2023-03-16T02:45:15.416782Z",
     "shell.execute_reply": "2023-03-16T02:45:15.416782Z",
     "shell.execute_reply.started": "2023-03-16T02:45:15.307757Z"
    },
    "tags": []
   },
   "outputs": [
    {
     "name": "stdout",
     "output_type": "stream",
     "text": [
      "['restaurante' 'utilidade casa' 'outros' 'assinatura' 'restaurante'\n",
      " 'eletrônico' 'produtos saúde' 'utilidade casa' 'alimentação' 'assinatura'\n",
      " 'utilidade casa' 'utilidade casa' 'utilidade casa' 'utilidade casa'\n",
      " 'produtos saúde' 'planos' 'restaurante' 'alimentação' 'restaurante'\n",
      " 'utilidade casa' 'assinatura' 'outros' 'alimentação' 'eletrônico' 'pet'\n",
      " 'utilidade casa' 'alimentação' 'eletrônico' 'alimentação' 'restaurante'\n",
      " 'utilidade casa' 'alimentação' 'restaurante' 'assinatura' 'alimentação'\n",
      " 'restaurante' 'restaurante' 'pet' 'utilidade casa' 'outros' 'eletrônico'\n",
      " 'planos' 'utilidade casa' 'alimentação' 'utilidade casa' 'assinatura'\n",
      " 'restaurante' 'assinatura' 'assinatura' 'restaurante' 'utilidade casa'\n",
      " 'restaurante' 'restaurante' 'alimentação' 'planos' 'alimentação'\n",
      " 'eletrônico' 'planos' 'alimentação' 'restaurante' 'alimentação' 'planos'\n",
      " 'restaurante' 'planos' 'restaurante' 'restaurante' 'planos' 'seguro'\n",
      " 'assinatura' 'restaurante' 'restaurante' 'restaurante' 'planos' 'pet'\n",
      " 'restaurante' 'planos' 'assinatura' 'restaurante' 'planos' 'planos'\n",
      " 'assinatura' 'eletrônico' 'eletrônico' 'utilidade casa' 'restaurante'\n",
      " 'restaurante' 'eletrônico' 'planos' 'restaurante' 'higiene pessoal'\n",
      " 'utilidade casa' 'utilidade casa' 'pet' 'utilidade casa' 'restaurante'\n",
      " 'restaurante' 'restaurante' 'restaurante' 'eletrônico' 'restaurante'\n",
      " 'restaurante' 'vestimenta' 'planos' 'alimentação' 'restaurante'\n",
      " 'alimentação' 'outros' 'planos' 'eletrônico' 'eletrônico' 'alimentação'\n",
      " 'outros' 'utilidade casa' 'restaurante' 'restaurante' 'planos' 'seguro'\n",
      " 'utilidade casa' 'restaurante' 'alimentação' 'planos' 'restaurante'\n",
      " 'alimentação' 'alimentação' 'utilidade casa' 'restaurante' 'eletrônico'\n",
      " 'restaurante' 'restaurante' 'assinatura' 'eletrônico' 'planos'\n",
      " 'utilidade casa' 'restaurante' 'outros' 'restaurante' 'planos'\n",
      " 'eletrônico' 'pet' 'planos' 'restaurante' 'restaurante' 'planos'\n",
      " 'alimentação' 'seguro' 'restaurante' 'restaurante' 'alimentação'\n",
      " 'restaurante' 'utilidade casa' 'alimentação' 'planos' 'assinatura'\n",
      " 'restaurante' 'assinatura' 'restaurante' 'restaurante' 'eletrônico'\n",
      " 'restaurante' 'restaurante' 'vestimenta' 'assinatura' 'alimentação'\n",
      " 'produtos saúde' 'restaurante' 'restaurante' 'utilidade casa' 'planos'\n",
      " 'alimentação' 'restaurante' 'outros' 'outros' 'assinatura'\n",
      " 'utilidade casa' 'restaurante' 'restaurante' 'restaurante' 'restaurante'\n",
      " 'assinatura' 'restaurante' 'combustível' 'restaurante' 'utilidade casa'\n",
      " 'locomoção' 'utilidade casa' 'utilidade casa' 'utilidade casa' 'planos'\n",
      " 'alimentação' 'alimentação' 'restaurante' 'produtos saúde'\n",
      " 'utilidade casa' 'planos' 'restaurante' 'pet' 'restaurante' 'assinatura'\n",
      " 'eletrônico' 'restaurante' 'restaurante' 'restaurante' 'restaurante'\n",
      " 'assinatura' 'planos' 'planos' 'vestimenta']\n"
     ]
    },
    {
     "name": "stderr",
     "output_type": "stream",
     "text": [
      "C:\\Users\\rodri\\AppData\\Local\\Programs\\Python\\Python310\\lib\\site-packages\\sklearn\\linear_model\\_logistic.py:458: ConvergenceWarning: lbfgs failed to converge (status=1):\n",
      "STOP: TOTAL NO. of ITERATIONS REACHED LIMIT.\n",
      "\n",
      "Increase the number of iterations (max_iter) or scale the data as shown in:\n",
      "    https://scikit-learn.org/stable/modules/preprocessing.html\n",
      "Please also refer to the documentation for alternative solver options:\n",
      "    https://scikit-learn.org/stable/modules/linear_model.html#logistic-regression\n",
      "  n_iter_i = _check_optimize_result(\n"
     ]
    }
   ],
   "source": [
    "from sklearn.compose import ColumnTransformer\n",
    "from sklearn.feature_extraction.text import CountVectorizer\n",
    "from sklearn.preprocessing import StandardScaler\n",
    "\n",
    "# create the column transformer to apply CountVectorizer to the 'categoria' column\n",
    "ct = ColumnTransformer(\n",
    "        transformers=[('cv', CountVectorizer(), 'Lançamento')],\n",
    "        remainder='passthrough')\n",
    "\n",
    "\n",
    "\n",
    "# fit the column transformer to the training data and transform X_train_cv\n",
    "X_train_ct = ct.fit_transform(X_train)\n",
    "\n",
    "# transform X_test using the fitted column transformer\n",
    "X_test_ct = ct.transform(X_test)\n",
    "\n",
    "# create the logistic regression model and fit it to the training data\n",
    "lr = LogisticRegression()\n",
    "lr.fit(X_train_ct, y_train)\n",
    "\n",
    "# generate predictions using the fitted model and the transformed X_test data\n",
    "predictions = lr.predict(X_test_ct)\n",
    "\n",
    "# print the predictions\n",
    "print(predictions)\n"
   ]
  },
  {
   "cell_type": "code",
   "execution_count": null,
   "id": "caa3108c-09ea-4350-a54d-34576decbad0",
   "metadata": {
    "execution": {
     "iopub.execute_input": "2023-03-16T02:45:31.072734Z",
     "iopub.status.busy": "2023-03-16T02:45:31.072734Z",
     "iopub.status.idle": "2023-03-16T02:45:31.121737Z",
     "shell.execute_reply": "2023-03-16T02:45:31.121737Z",
     "shell.execute_reply.started": "2023-03-16T02:45:31.072734Z"
    },
    "tags": []
   },
   "outputs": [
    {
     "data": {
      "text/plain": [
       "array(['alimentação', 'alimentação'], dtype=object)"
      ]
     },
     "execution_count": 200,
     "metadata": {},
     "output_type": "execute_result"
    }
   ],
   "source": [
    "from sklearn.linear_model import LogisticRegression\n",
    "\n",
    "lr = LogisticRegression()\n",
    "\n",
    "lr.fit(X_train_cv, y_train)\n",
    "\n",
    "\n",
    "# transform X_test using CV\n",
    "\n",
    "X_test_cv = cv.transform(X_test.dropna())\n",
    "\n",
    "\n",
    "\n",
    "\n",
    "# generate predictions\n",
    "\n",
    "predictions = lr.predict(X_test_cv)\n",
    "\n",
    "predictions"
   ]
  },
  {
   "cell_type": "code",
   "execution_count": null,
   "id": "d09c0035-3249-471a-8818-dcc460cb358e",
   "metadata": {
    "execution": {
     "iopub.execute_input": "2023-03-16T02:45:41.345090Z",
     "iopub.status.busy": "2023-03-16T02:45:41.345090Z",
     "iopub.status.idle": "2023-03-16T02:45:41.354790Z",
     "shell.execute_reply": "2023-03-16T02:45:41.354790Z",
     "shell.execute_reply.started": "2023-03-16T02:45:41.345090Z"
    },
    "tags": []
   },
   "outputs": [],
   "source": [
    "from sklearn import metrics"
   ]
  },
  {
   "cell_type": "code",
   "execution_count": null,
   "id": "f445605e-9e0a-43c0-b346-d22adef60c7b",
   "metadata": {
    "execution": {
     "iopub.execute_input": "2023-03-16T02:45:41.355791Z",
     "iopub.status.busy": "2023-03-16T02:45:41.355791Z",
     "iopub.status.idle": "2023-03-16T02:45:41.370794Z",
     "shell.execute_reply": "2023-03-16T02:45:41.369794Z",
     "shell.execute_reply.started": "2023-03-16T02:45:41.355791Z"
    },
    "tags": []
   },
   "outputs": [],
   "source": [
    "from sklearn.metrics import classification_report"
   ]
  },
  {
   "cell_type": "code",
   "execution_count": null,
   "id": "eb2270db-b712-4982-9fa1-a3cc53d0e1dc",
   "metadata": {
    "execution": {
     "iopub.execute_input": "2023-03-16T02:45:41.371795Z",
     "iopub.status.busy": "2023-03-16T02:45:41.371795Z",
     "iopub.status.idle": "2023-03-16T02:45:41.385798Z",
     "shell.execute_reply": "2023-03-16T02:45:41.384797Z",
     "shell.execute_reply.started": "2023-03-16T02:45:41.371795Z"
    },
    "tags": []
   },
   "outputs": [
    {
     "data": {
      "text/plain": [
       "array(['alimentação', 'aluguel', 'assinatura', 'celular', 'combustível',\n",
       "       'eletrônico', 'estacionamento', 'exterior', 'ferramentas',\n",
       "       'internet', 'livros', 'locomoção', 'manutenção', 'necessários',\n",
       "       'outros', 'pet', 'planos', 'presentes', 'produtos saúde',\n",
       "       'restaurante', 'seguro', 'utilidade casa', 'vestimenta', 'viagem'],\n",
       "      dtype=object)"
      ]
     },
     "execution_count": 203,
     "metadata": {},
     "output_type": "execute_result"
    }
   ],
   "source": [
    "y_test.sort_values().unique()"
   ]
  },
  {
   "cell_type": "code",
   "execution_count": null,
   "id": "9260f3cc-d8f9-4cb0-b6d7-46910ee35829",
   "metadata": {
    "execution": {
     "iopub.execute_input": "2023-03-16T02:45:41.386798Z",
     "iopub.status.busy": "2023-03-16T02:45:41.386798Z",
     "iopub.status.idle": "2023-03-16T02:45:41.432808Z",
     "shell.execute_reply": "2023-03-16T02:45:41.432808Z",
     "shell.execute_reply.started": "2023-03-16T02:45:41.386798Z"
    },
    "tags": []
   },
   "outputs": [
    {
     "ename": "ValueError",
     "evalue": "Found input variables with inconsistent numbers of samples: [207, 2]",
     "output_type": "error",
     "traceback": [
      "\u001b[1;31m---------------------------------------------------------------------------\u001b[0m",
      "\u001b[1;31mValueError\u001b[0m                                Traceback (most recent call last)",
      "Cell \u001b[1;32mIn[204], line 1\u001b[0m\n\u001b[1;32m----> 1\u001b[0m \u001b[38;5;28mprint\u001b[39m(\u001b[43mclassification_report\u001b[49m\u001b[43m(\u001b[49m\u001b[43my_test\u001b[49m\u001b[43m,\u001b[49m\u001b[43m \u001b[49m\u001b[43mpredictions\u001b[49m\u001b[43m)\u001b[49m)\n",
      "File \u001b[1;32m~\\AppData\\Local\\Programs\\Python\\Python310\\lib\\site-packages\\sklearn\\metrics\\_classification.py:2310\u001b[0m, in \u001b[0;36mclassification_report\u001b[1;34m(y_true, y_pred, labels, target_names, sample_weight, digits, output_dict, zero_division)\u001b[0m\n\u001b[0;32m   2195\u001b[0m \u001b[38;5;28;01mdef\u001b[39;00m \u001b[38;5;21mclassification_report\u001b[39m(\n\u001b[0;32m   2196\u001b[0m     y_true,\n\u001b[0;32m   2197\u001b[0m     y_pred,\n\u001b[1;32m   (...)\u001b[0m\n\u001b[0;32m   2204\u001b[0m     zero_division\u001b[38;5;241m=\u001b[39m\u001b[38;5;124m\"\u001b[39m\u001b[38;5;124mwarn\u001b[39m\u001b[38;5;124m\"\u001b[39m,\n\u001b[0;32m   2205\u001b[0m ):\n\u001b[0;32m   2206\u001b[0m \u001b[38;5;250m    \u001b[39m\u001b[38;5;124;03m\"\"\"Build a text report showing the main classification metrics.\u001b[39;00m\n\u001b[0;32m   2207\u001b[0m \n\u001b[0;32m   2208\u001b[0m \u001b[38;5;124;03m    Read more in the :ref:`User Guide <classification_report>`.\u001b[39;00m\n\u001b[1;32m   (...)\u001b[0m\n\u001b[0;32m   2307\u001b[0m \u001b[38;5;124;03m    <BLANKLINE>\u001b[39;00m\n\u001b[0;32m   2308\u001b[0m \u001b[38;5;124;03m    \"\"\"\u001b[39;00m\n\u001b[1;32m-> 2310\u001b[0m     y_type, y_true, y_pred \u001b[38;5;241m=\u001b[39m \u001b[43m_check_targets\u001b[49m\u001b[43m(\u001b[49m\u001b[43my_true\u001b[49m\u001b[43m,\u001b[49m\u001b[43m \u001b[49m\u001b[43my_pred\u001b[49m\u001b[43m)\u001b[49m\n\u001b[0;32m   2312\u001b[0m     \u001b[38;5;28;01mif\u001b[39;00m labels \u001b[38;5;129;01mis\u001b[39;00m \u001b[38;5;28;01mNone\u001b[39;00m:\n\u001b[0;32m   2313\u001b[0m         labels \u001b[38;5;241m=\u001b[39m unique_labels(y_true, y_pred)\n",
      "File \u001b[1;32m~\\AppData\\Local\\Programs\\Python\\Python310\\lib\\site-packages\\sklearn\\metrics\\_classification.py:86\u001b[0m, in \u001b[0;36m_check_targets\u001b[1;34m(y_true, y_pred)\u001b[0m\n\u001b[0;32m     59\u001b[0m \u001b[38;5;28;01mdef\u001b[39;00m \u001b[38;5;21m_check_targets\u001b[39m(y_true, y_pred):\n\u001b[0;32m     60\u001b[0m \u001b[38;5;250m    \u001b[39m\u001b[38;5;124;03m\"\"\"Check that y_true and y_pred belong to the same classification task.\u001b[39;00m\n\u001b[0;32m     61\u001b[0m \n\u001b[0;32m     62\u001b[0m \u001b[38;5;124;03m    This converts multiclass or binary types to a common shape, and raises a\u001b[39;00m\n\u001b[1;32m   (...)\u001b[0m\n\u001b[0;32m     84\u001b[0m \u001b[38;5;124;03m    y_pred : array or indicator matrix\u001b[39;00m\n\u001b[0;32m     85\u001b[0m \u001b[38;5;124;03m    \"\"\"\u001b[39;00m\n\u001b[1;32m---> 86\u001b[0m     \u001b[43mcheck_consistent_length\u001b[49m\u001b[43m(\u001b[49m\u001b[43my_true\u001b[49m\u001b[43m,\u001b[49m\u001b[43m \u001b[49m\u001b[43my_pred\u001b[49m\u001b[43m)\u001b[49m\n\u001b[0;32m     87\u001b[0m     type_true \u001b[38;5;241m=\u001b[39m type_of_target(y_true, input_name\u001b[38;5;241m=\u001b[39m\u001b[38;5;124m\"\u001b[39m\u001b[38;5;124my_true\u001b[39m\u001b[38;5;124m\"\u001b[39m)\n\u001b[0;32m     88\u001b[0m     type_pred \u001b[38;5;241m=\u001b[39m type_of_target(y_pred, input_name\u001b[38;5;241m=\u001b[39m\u001b[38;5;124m\"\u001b[39m\u001b[38;5;124my_pred\u001b[39m\u001b[38;5;124m\"\u001b[39m)\n",
      "File \u001b[1;32m~\\AppData\\Local\\Programs\\Python\\Python310\\lib\\site-packages\\sklearn\\utils\\validation.py:397\u001b[0m, in \u001b[0;36mcheck_consistent_length\u001b[1;34m(*arrays)\u001b[0m\n\u001b[0;32m    395\u001b[0m uniques \u001b[38;5;241m=\u001b[39m np\u001b[38;5;241m.\u001b[39munique(lengths)\n\u001b[0;32m    396\u001b[0m \u001b[38;5;28;01mif\u001b[39;00m \u001b[38;5;28mlen\u001b[39m(uniques) \u001b[38;5;241m>\u001b[39m \u001b[38;5;241m1\u001b[39m:\n\u001b[1;32m--> 397\u001b[0m     \u001b[38;5;28;01mraise\u001b[39;00m \u001b[38;5;167;01mValueError\u001b[39;00m(\n\u001b[0;32m    398\u001b[0m         \u001b[38;5;124m\"\u001b[39m\u001b[38;5;124mFound input variables with inconsistent numbers of samples: \u001b[39m\u001b[38;5;132;01m%r\u001b[39;00m\u001b[38;5;124m\"\u001b[39m\n\u001b[0;32m    399\u001b[0m         \u001b[38;5;241m%\u001b[39m [\u001b[38;5;28mint\u001b[39m(l) \u001b[38;5;28;01mfor\u001b[39;00m l \u001b[38;5;129;01min\u001b[39;00m lengths]\n\u001b[0;32m    400\u001b[0m     )\n",
      "\u001b[1;31mValueError\u001b[0m: Found input variables with inconsistent numbers of samples: [207, 2]"
     ]
    }
   ],
   "source": [
    "print(classification_report(y_test, predictions))"
   ]
  },
  {
   "cell_type": "code",
   "execution_count": null,
   "id": "61983a74-94a8-4768-b478-4e808ad7cf3f",
   "metadata": {
    "execution": {
     "iopub.execute_input": "2023-03-16T02:09:25.692187Z",
     "iopub.status.busy": "2023-03-16T02:09:25.691187Z",
     "iopub.status.idle": "2023-03-16T02:09:25.705190Z",
     "shell.execute_reply": "2023-03-16T02:09:25.705190Z",
     "shell.execute_reply.started": "2023-03-16T02:09:25.692187Z"
    },
    "tags": []
   },
   "outputs": [
    {
     "name": "stdout",
     "output_type": "stream",
     "text": [
      "                precision    recall  f1-score   support\n",
      "\n",
      "   alimentação       0.49      0.94      0.65        34\n",
      "       aluguel       0.50      1.00      0.67         1\n",
      "    assinatura       0.89      0.76      0.82        21\n",
      "       celular       1.00      1.00      1.00         1\n",
      "   combustível       1.00      1.00      1.00         1\n",
      "    eletrônico       0.79      0.88      0.83        17\n",
      "estacionamento       0.50      0.60      0.55         5\n",
      "      exterior       1.00      1.00      1.00         3\n",
      "   ferramentas       0.00      0.00      0.00         1\n",
      "      internet       1.00      1.00      1.00         1\n",
      "        livros       0.00      0.00      0.00         3\n",
      "     locomoção       0.86      0.67      0.75         9\n",
      "    manutenção       0.00      0.00      0.00         4\n",
      "   necessários       0.00      0.00      0.00         2\n",
      "        outros       0.60      0.33      0.43         9\n",
      "           pet       1.00      0.60      0.75        10\n",
      "        planos       0.58      0.48      0.52        23\n",
      "     presentes       0.00      0.00      0.00         1\n",
      "produtos saúde       1.00      0.67      0.80         6\n",
      "   restaurante       0.67      0.46      0.55        26\n",
      "        seguro       1.00      1.00      1.00         3\n",
      "utilidade casa       0.52      0.67      0.59        18\n",
      "    vestimenta       1.00      0.86      0.92         7\n",
      "        viagem       0.00      0.00      0.00         1\n",
      "\n",
      "      accuracy                           0.66       207\n",
      "     macro avg       0.60      0.58      0.58       207\n",
      "  weighted avg       0.66      0.66      0.64       207\n",
      "\n"
     ]
    },
    {
     "name": "stderr",
     "output_type": "stream",
     "text": [
      "C:\\Users\\rodri\\AppData\\Local\\Programs\\Python\\Python310\\lib\\site-packages\\sklearn\\metrics\\_classification.py:1344: UndefinedMetricWarning: Precision and F-score are ill-defined and being set to 0.0 in labels with no predicted samples. Use `zero_division` parameter to control this behavior.\n",
      "  _warn_prf(average, modifier, msg_start, len(result))\n",
      "C:\\Users\\rodri\\AppData\\Local\\Programs\\Python\\Python310\\lib\\site-packages\\sklearn\\metrics\\_classification.py:1344: UndefinedMetricWarning: Precision and F-score are ill-defined and being set to 0.0 in labels with no predicted samples. Use `zero_division` parameter to control this behavior.\n",
      "  _warn_prf(average, modifier, msg_start, len(result))\n",
      "C:\\Users\\rodri\\AppData\\Local\\Programs\\Python\\Python310\\lib\\site-packages\\sklearn\\metrics\\_classification.py:1344: UndefinedMetricWarning: Precision and F-score are ill-defined and being set to 0.0 in labels with no predicted samples. Use `zero_division` parameter to control this behavior.\n",
      "  _warn_prf(average, modifier, msg_start, len(result))\n"
     ]
    }
   ],
   "source": [
    "print(classification_report(y_test, predictions))"
   ]
  },
  {
   "cell_type": "code",
   "execution_count": null,
   "id": "aa49723b-335f-4f9e-b0bc-9c9ccb7bc657",
   "metadata": {
    "execution": {
     "iopub.execute_input": "2023-03-16T02:09:25.707191Z",
     "iopub.status.busy": "2023-03-16T02:09:25.707191Z",
     "iopub.status.idle": "2023-03-16T02:09:25.720194Z",
     "shell.execute_reply": "2023-03-16T02:09:25.720194Z",
     "shell.execute_reply.started": "2023-03-16T02:09:25.707191Z"
    },
    "tags": []
   },
   "outputs": [],
   "source": [
    "from sklearn.metrics import confusion_matrix, ConfusionMatrixDisplay"
   ]
  },
  {
   "cell_type": "code",
   "execution_count": null,
   "id": "0435ca17-ef6d-45b9-8ad4-133ff927c48f",
   "metadata": {
    "execution": {
     "iopub.execute_input": "2023-03-16T02:09:31.755198Z",
     "iopub.status.busy": "2023-03-16T02:09:31.754198Z",
     "iopub.status.idle": "2023-03-16T02:09:31.769201Z",
     "shell.execute_reply": "2023-03-16T02:09:31.768200Z",
     "shell.execute_reply.started": "2023-03-16T02:09:31.755198Z"
    },
    "tags": []
   },
   "outputs": [],
   "source": [
    "#!pip install matplotlib"
   ]
  },
  {
   "cell_type": "code",
   "execution_count": null,
   "id": "c5f20112-ed0d-40ef-8dd9-540541265b26",
   "metadata": {
    "execution": {
     "iopub.execute_input": "2023-03-16T02:09:35.391658Z",
     "iopub.status.busy": "2023-03-16T02:09:35.390658Z",
     "iopub.status.idle": "2023-03-16T02:09:35.407662Z",
     "shell.execute_reply": "2023-03-16T02:09:35.406661Z",
     "shell.execute_reply.started": "2023-03-16T02:09:35.391658Z"
    },
    "tags": []
   },
   "outputs": [
    {
     "data": {
      "text/plain": [
       "array(['alimentação', 'aluguel', 'assinatura', 'celular', 'combustível',\n",
       "       'eletrônico', 'estacionamento', 'exterior', 'ferramentas',\n",
       "       'internet', 'livros', 'locomoção', 'manutenção', 'necessários',\n",
       "       'outros', 'pet', 'planos', 'presentes', 'produtos saúde',\n",
       "       'restaurante', 'seguro', 'utilidade casa', 'vestimenta', 'viagem'],\n",
       "      dtype=object)"
      ]
     },
     "execution_count": 115,
     "metadata": {},
     "output_type": "execute_result"
    }
   ],
   "source": [
    "y_test.sort_values().unique()"
   ]
  },
  {
   "cell_type": "code",
   "execution_count": null,
   "id": "f0c75411-b04a-47b0-80eb-27bb313547c0",
   "metadata": {
    "execution": {
     "iopub.execute_input": "2023-03-16T02:09:35.409662Z",
     "iopub.status.busy": "2023-03-16T02:09:35.408663Z",
     "iopub.status.idle": "2023-03-16T02:09:35.422665Z",
     "shell.execute_reply": "2023-03-16T02:09:35.422665Z",
     "shell.execute_reply.started": "2023-03-16T02:09:35.409662Z"
    },
    "tags": []
   },
   "outputs": [],
   "source": [
    "df = pd.DataFrame(metrics.confusion_matrix(y_test,predictions), index=y_test.sort_values().unique(), columns=y_test.sort_values().unique())"
   ]
  },
  {
   "cell_type": "code",
   "execution_count": null,
   "id": "b8d87999-d16e-4a16-9943-0c57a95da848",
   "metadata": {
    "execution": {
     "iopub.execute_input": "2023-03-16T02:09:52.140412Z",
     "iopub.status.busy": "2023-03-16T02:09:52.140412Z",
     "iopub.status.idle": "2023-03-16T02:09:53.250662Z",
     "shell.execute_reply": "2023-03-16T02:09:53.250662Z",
     "shell.execute_reply.started": "2023-03-16T02:09:52.140412Z"
    },
    "tags": []
   },
   "outputs": [
    {
     "data": {
      "text/plain": [
       "<AxesSubplot: >"
      ]
     },
     "execution_count": 120,
     "metadata": {},
     "output_type": "execute_result"
    },
    {
     "data": {
      "image/png": "[encoded data removed]",
      "text/plain": [
       "<Figure size 640x480 with 2 Axes>"
      ]
     },
     "metadata": {},
     "output_type": "display_data"
    }
   ],
   "source": [
    "sns.heatmap(df,annot=True)"
   ]
  },
  {
   "cell_type": "code",
   "execution_count": null,
   "id": "04b8fb9c-d22c-40f8-ab99-ceb0bffe16fd",
   "metadata": {
    "execution": {
     "iopub.execute_input": "2023-03-16T02:09:53.252662Z",
     "iopub.status.busy": "2023-03-16T02:09:53.251662Z",
     "iopub.status.idle": "2023-03-16T02:09:53.266665Z",
     "shell.execute_reply": "2023-03-16T02:09:53.266665Z",
     "shell.execute_reply.started": "2023-03-16T02:09:53.252662Z"
    },
    "tags": []
   },
   "outputs": [
    {
     "data": {
      "text/plain": [
       "14     restaurante\n",
       "587    necessários\n",
       "140     eletrônico\n",
       "493     assinatura\n",
       "350       exterior\n",
       "          ...     \n",
       "188      locomoção\n",
       "381     assinatura\n",
       "369         planos\n",
       "362         planos\n",
       "90      vestimenta\n",
       "Name: Categoria, Length: 207, dtype: object"
      ]
     },
     "execution_count": 121,
     "metadata": {},
     "output_type": "execute_result"
    }
   ],
   "source": [
    "y_test"
   ]
  },
  {
   "cell_type": "code",
   "execution_count": null,
   "id": "8d015e52-6c68-4f7f-a3e9-81dccdb9bf5d",
   "metadata": {
    "execution": {
     "iopub.execute_input": "2023-03-16T02:09:53.268665Z",
     "iopub.status.busy": "2023-03-16T02:09:53.267665Z",
     "iopub.status.idle": "2023-03-16T02:09:53.282669Z",
     "shell.execute_reply": "2023-03-16T02:09:53.282669Z",
     "shell.execute_reply.started": "2023-03-16T02:09:53.268665Z"
    },
    "tags": []
   },
   "outputs": [
    {
     "data": {
      "text/plain": [
       "14               ifood ifood\n",
       "587       amazon marketplace\n",
       "140    mercadolivre mercadol\n",
       "493    google youtube member\n",
       "350         pasteis de belem\n",
       "               ...          \n",
       "188       d lar de convers o\n",
       "381              google play\n",
       "369    mercadolivre mercadol\n",
       "362        brinox brinoxshop\n",
       "90           lojas renner fl\n",
       "Name: Lançamento, Length: 207, dtype: object"
      ]
     },
     "execution_count": 122,
     "metadata": {},
     "output_type": "execute_result"
    }
   ],
   "source": [
    "X_test"
   ]
  },
  {
   "cell_type": "code",
   "execution_count": null,
   "id": "6fccf71c-a0ca-4242-9313-75be762d8414",
   "metadata": {
    "execution": {
     "iopub.execute_input": "2023-03-16T02:09:53.284669Z",
     "iopub.status.busy": "2023-03-16T02:09:53.283669Z",
     "iopub.status.idle": "2023-03-16T02:09:53.298671Z",
     "shell.execute_reply": "2023-03-16T02:09:53.297672Z",
     "shell.execute_reply.started": "2023-03-16T02:09:53.284669Z"
    },
    "tags": []
   },
   "outputs": [
    {
     "data": {
      "text/plain": [
       "<1x310 sparse matrix of type '<class 'numpy.int64'>'\n",
       "\twith 1 stored elements in Compressed Sparse Row format>"
      ]
     },
     "execution_count": 123,
     "metadata": {},
     "output_type": "execute_result"
    }
   ],
   "source": [
    "cv.transform(['ifood'])"
   ]
  },
  {
   "cell_type": "code",
   "execution_count": null,
   "id": "fdc6d6c9-988e-4134-bab3-69bbf5e87dfc",
   "metadata": {
    "execution": {
     "iopub.execute_input": "2023-03-16T02:09:54.181870Z",
     "iopub.status.busy": "2023-03-16T02:09:54.181870Z",
     "iopub.status.idle": "2023-03-16T02:09:54.188872Z",
     "shell.execute_reply": "2023-03-16T02:09:54.188872Z",
     "shell.execute_reply.started": "2023-03-16T02:09:54.181870Z"
    },
    "tags": []
   },
   "outputs": [
    {
     "data": {
      "text/plain": [
       "array(['alimentação'], dtype=object)"
      ]
     },
     "execution_count": 124,
     "metadata": {},
     "output_type": "execute_result"
    }
   ],
   "source": [
    "lr.predict(cv.transform(['']))"
   ]
  }
 ],
 "metadata": {
  "kernelspec": {
   "display_name": "Python 3 (ipykernel)",
   "language": "python",
   "name": "python3"
  },
  "language_info": {
   "codemirror_mode": {
    "name": "ipython",
    "version": 3
   },
   "file_extension": ".py",
   "mimetype": "text/x-python",
   "name": "python",
   "nbconvert_exporter": "python",
   "pygments_lexer": "ipython3",
   "version": "3.10.9"
  }
 },
 "nbformat": 4,
 "nbformat_minor": 5
}
