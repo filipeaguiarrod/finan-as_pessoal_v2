{
 "cells": [
  {
   "cell_type": "code",
   "execution_count": 17,
   "id": "d21569d8",
   "metadata": {
    "execution": {
     "iopub.execute_input": "2021-11-01T14:32:19.753973Z",
     "iopub.status.busy": "2021-11-01T14:32:19.753973Z",
     "iopub.status.idle": "2021-11-01T14:32:19.755974Z",
     "shell.execute_reply": "2021-11-01T14:32:19.755974Z",
     "shell.execute_reply.started": "2021-11-01T14:32:19.753973Z"
    },
    "tags": []
   },
   "outputs": [],
   "source": [
    "import pandas as pd"
   ]
  },
  {
   "cell_type": "code",
   "execution_count": 18,
   "id": "7a3523f2",
   "metadata": {
    "execution": {
     "iopub.execute_input": "2021-11-01T14:32:19.756970Z",
     "iopub.status.busy": "2021-11-01T14:32:19.756970Z",
     "iopub.status.idle": "2021-11-01T14:32:19.772973Z",
     "shell.execute_reply": "2021-11-01T14:32:19.771970Z",
     "shell.execute_reply.started": "2021-11-01T14:32:19.756970Z"
    },
    "tags": []
   },
   "outputs": [],
   "source": [
    "itau = pd.read_excel('Extrato Conta Corrente-011120211122.xls')"
   ]
  },
  {
   "cell_type": "code",
   "execution_count": 19,
   "id": "02725624",
   "metadata": {
    "execution": {
     "iopub.execute_input": "2021-11-01T14:32:20.483650Z",
     "iopub.status.busy": "2021-11-01T14:32:20.483650Z",
     "iopub.status.idle": "2021-11-01T14:32:20.503650Z",
     "shell.execute_reply": "2021-11-01T14:32:20.503650Z",
     "shell.execute_reply.started": "2021-11-01T14:32:20.483650Z"
    },
    "tags": []
   },
   "outputs": [
    {
     "name": "stderr",
     "output_type": "stream",
     "text": [
      "<ipython-input-19-45b220269bd8>:17: FutureWarning: The default value of regex will change from True to False in a future version. In addition, single character regular expressions will*not* be treated as literal strings when regex=True.\n",
      "  itau['valor (R$)'] = itau['valor (R$)'].astype('str').str.replace('.',',')\n"
     ]
    }
   ],
   "source": [
    "itau = pd.read_excel('Extrato Conta Corrente-011120211122.xls')\n",
    "\n",
    "itau = itau.iloc[itau.loc[itau['Logotipo Itaú'] == 'lançamentos'].index[0]+1:itau.loc[itau['Logotipo Itaú'] == 'lançamentos futuros'].index[0],0:4] #+1 para ignorar linha lançamento\n",
    "\n",
    "nome_antigo = itau.columns.to_list()\n",
    "\n",
    "novos_nomes = ['data','lançamento','ag./origem','valor (R$)']\n",
    "\n",
    "dictionary = dict(zip(nome_antigo, novos_nomes))\n",
    "\n",
    "itau.rename(columns=dictionary,inplace=True)\n",
    "\n",
    "sujeiras = ['SALDO ANTERIOR','REND PAGO APLIC AUT MAIS','SDO CTA/APL AUTOMATICAS','SALDO DO DIA']\n",
    "\n",
    "itau = itau.loc[itau.lançamento.isin(sujeiras)==False]\n",
    "\n",
    "itau['valor (R$)'] = itau['valor (R$)'].astype('str').str.replace('.',',')"
   ]
  },
  {
   "cell_type": "code",
   "execution_count": 20,
   "id": "87ad3d4c",
   "metadata": {
    "execution": {
     "iopub.execute_input": "2021-11-01T14:32:23.079182Z",
     "iopub.status.busy": "2021-11-01T14:32:23.079182Z",
     "iopub.status.idle": "2021-11-01T14:32:23.100178Z",
     "shell.execute_reply": "2021-11-01T14:32:23.100178Z",
     "shell.execute_reply.started": "2021-11-01T14:32:23.079182Z"
    },
    "tags": []
   },
   "outputs": [
    {
     "data": {
      "text/html": [
       "<div>\n",
       "<style scoped>\n",
       "    .dataframe tbody tr th:only-of-type {\n",
       "        vertical-align: middle;\n",
       "    }\n",
       "\n",
       "    .dataframe tbody tr th {\n",
       "        vertical-align: top;\n",
       "    }\n",
       "\n",
       "    .dataframe thead th {\n",
       "        text-align: right;\n",
       "    }\n",
       "</style>\n",
       "<table border=\"1\" class=\"dataframe\">\n",
       "  <thead>\n",
       "    <tr style=\"text-align: right;\">\n",
       "      <th></th>\n",
       "      <th>data</th>\n",
       "      <th>lançamento</th>\n",
       "      <th>ag./origem</th>\n",
       "      <th>valor (R$)</th>\n",
       "    </tr>\n",
       "  </thead>\n",
       "  <tbody>\n",
       "    <tr>\n",
       "      <th>9</th>\n",
       "      <td>26/10/2021</td>\n",
       "      <td>INT TED  396ed50a docs</td>\n",
       "      <td>2700</td>\n",
       "      <td>-70</td>\n",
       "    </tr>\n",
       "    <tr>\n",
       "      <th>10</th>\n",
       "      <td>26/10/2021</td>\n",
       "      <td>TRANSFERENCIA SALDO</td>\n",
       "      <td>NaN</td>\n",
       "      <td>43</td>\n",
       "    </tr>\n",
       "    <tr>\n",
       "      <th>14</th>\n",
       "      <td>28/10/2021</td>\n",
       "      <td>PIX TRANSF  CRIA &amp; 28/10</td>\n",
       "      <td>9028</td>\n",
       "      <td>-300</td>\n",
       "    </tr>\n",
       "    <tr>\n",
       "      <th>17</th>\n",
       "      <td>29/10/2021</td>\n",
       "      <td>REMUNERACAO/SALARIO</td>\n",
       "      <td>3083</td>\n",
       "      <td>2706,25</td>\n",
       "    </tr>\n",
       "  </tbody>\n",
       "</table>\n",
       "</div>"
      ],
      "text/plain": [
       "          data                lançamento ag./origem valor (R$)\n",
       "9   26/10/2021    INT TED  396ed50a docs       2700        -70\n",
       "10  26/10/2021       TRANSFERENCIA SALDO        NaN         43\n",
       "14  28/10/2021  PIX TRANSF  CRIA & 28/10       9028       -300\n",
       "17  29/10/2021       REMUNERACAO/SALARIO       3083    2706,25"
      ]
     },
     "execution_count": 20,
     "metadata": {},
     "output_type": "execute_result"
    }
   ],
   "source": [
    "itau"
   ]
  }
 ],
 "metadata": {
  "kernelspec": {
   "display_name": "Python 3",
   "language": "python",
   "name": "python3"
  },
  "language_info": {
   "codemirror_mode": {
    "name": "ipython",
    "version": 3
   },
   "file_extension": ".py",
   "mimetype": "text/x-python",
   "name": "python",
   "nbconvert_exporter": "python",
   "pygments_lexer": "ipython3",
   "version": "3.8.5"
  }
 },
 "nbformat": 4,
 "nbformat_minor": 5
}
