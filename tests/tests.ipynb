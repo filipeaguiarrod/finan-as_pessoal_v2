{
 "cells": [
  {
   "cell_type": "code",
   "execution_count": 47,
   "id": "55cf4a7f-7828-4473-96b3-86a1939d8f53",
   "metadata": {
    "execution": {
     "iopub.execute_input": "2023-02-21T19:41:44.466029Z",
     "iopub.status.busy": "2023-02-21T19:41:44.465027Z",
     "iopub.status.idle": "2023-02-21T19:41:44.506037Z",
     "shell.execute_reply": "2023-02-21T19:41:44.505037Z",
     "shell.execute_reply.started": "2023-02-21T19:41:44.466029Z"
    },
    "tags": []
   },
   "outputs": [],
   "source": [
    "import pandas as pd\n",
    "import numpy as np\n",
    "import streamlit as st\n",
    "from io import BytesIO\n"
   ]
  },
  {
   "cell_type": "code",
   "execution_count": 60,
   "id": "a8bc5ef0-f5aa-45e0-82a3-864cb43e5917",
   "metadata": {
    "execution": {
     "iopub.execute_input": "2023-02-21T20:18:34.405537Z",
     "iopub.status.busy": "2023-02-21T20:18:34.405537Z",
     "iopub.status.idle": "2023-02-21T20:18:38.380429Z",
     "shell.execute_reply": "2023-02-21T20:18:38.379428Z",
     "shell.execute_reply.started": "2023-02-21T20:18:34.405537Z"
    },
    "tags": []
   },
   "outputs": [
    {
     "name": "stdout",
     "output_type": "stream",
     "text": [
      "Requirement already satisfied: xlrd in c:\\users\\rodri\\appdata\\local\\programs\\python\\python310\\lib\\site-packages (2.0.1)\n"
     ]
    },
    {
     "name": "stderr",
     "output_type": "stream",
     "text": [
      "\n",
      "[notice] A new release of pip available: 22.3.1 -> 23.0\n",
      "[notice] To update, run: python.exe -m pip install --upgrade pip\n"
     ]
    },
    {
     "name": "stdout",
     "output_type": "stream",
     "text": [
      "Collecting openpyxl\n",
      "  Downloading openpyxl-3.1.1-py2.py3-none-any.whl (249 kB)\n",
      "     ------------------------------------- 249.8/249.8 kB 15.0 MB/s eta 0:00:00\n",
      "Collecting et-xmlfile\n",
      "  Downloading et_xmlfile-1.1.0-py3-none-any.whl (4.7 kB)\n",
      "Installing collected packages: et-xmlfile, openpyxl\n",
      "Successfully installed et-xmlfile-1.1.0 openpyxl-3.1.1\n"
     ]
    },
    {
     "name": "stderr",
     "output_type": "stream",
     "text": [
      "\n",
      "[notice] A new release of pip available: 22.3.1 -> 23.0\n",
      "[notice] To update, run: python.exe -m pip install --upgrade pip\n"
     ]
    }
   ],
   "source": [
    "!pip install xlrd \n",
    "!pip install openpyxl"
   ]
  },
  {
   "cell_type": "code",
   "execution_count": 56,
   "id": "deff6083-6925-44ac-819b-ebfd16c42dfa",
   "metadata": {
    "execution": {
     "iopub.execute_input": "2023-02-21T19:49:30.159033Z",
     "iopub.status.busy": "2023-02-21T19:49:30.159033Z",
     "iopub.status.idle": "2023-02-21T19:49:30.166034Z",
     "shell.execute_reply": "2023-02-21T19:49:30.165034Z",
     "shell.execute_reply.started": "2023-02-21T19:49:30.159033Z"
    },
    "tags": []
   },
   "outputs": [],
   "source": [
    "xp = pd.read_csv('temp3068439863306856865.csv',sep=';')"
   ]
  },
  {
   "cell_type": "code",
   "execution_count": 57,
   "id": "7ab98592-a935-4c59-bf9e-d3d5c46916ac",
   "metadata": {
    "execution": {
     "iopub.execute_input": "2023-02-21T19:49:30.169035Z",
     "iopub.status.busy": "2023-02-21T19:49:30.168035Z",
     "iopub.status.idle": "2023-02-21T19:49:30.182038Z",
     "shell.execute_reply": "2023-02-21T19:49:30.181037Z",
     "shell.execute_reply.started": "2023-02-21T19:49:30.169035Z"
    },
    "tags": []
   },
   "outputs": [],
   "source": [
    "def to_excel(df):\n",
    "    output = BytesIO()\n",
    "    writer = pd.ExcelWriter(output, engine='xlsxwriter')\n",
    "    df.to_excel(writer, sheet_name='Sheet1',index=False)\n",
    "    writer.save()\n",
    "    processed_data = output.getvalue()\n",
    "    return processed_data"
   ]
  },
  {
   "cell_type": "code",
   "execution_count": 58,
   "id": "e50bb484-54ec-462d-b0dc-d6b2851d4d0a",
   "metadata": {
    "execution": {
     "iopub.execute_input": "2023-02-21T19:49:30.183039Z",
     "iopub.status.busy": "2023-02-21T19:49:30.183039Z",
     "iopub.status.idle": "2023-02-21T19:49:30.228048Z",
     "shell.execute_reply": "2023-02-21T19:49:30.227048Z",
     "shell.execute_reply.started": "2023-02-21T19:49:30.183039Z"
    },
    "tags": []
   },
   "outputs": [
    {
     "name": "stderr",
     "output_type": "stream",
     "text": [
      "C:\\Users\\rodri\\AppData\\Local\\Temp\\ipykernel_5616\\2608175252.py:5: FutureWarning: save is not part of the public API, usage can give unexpected results and will be removed in a future version\n",
      "  writer.save()\n"
     ]
    },
    {
     "data": {
      "text/plain": [
       "False"
      ]
     },
     "execution_count": 58,
     "metadata": {},
     "output_type": "execute_result"
    }
   ],
   "source": [
    "\n",
    "#xp_file = st.file_uploader(\"Jogue aqui o arquivo .csv XP Investimentos\")\n",
    "\n",
    "#xp = pd.read_csv(xp_file)\n",
    "\n",
    "# Editando arquivo csv para usar no google sheets.\n",
    "\n",
    "xp['Valor'] = xp['Valor'].astype('str')\n",
    "\n",
    "xp['Valor'] = xp['Valor'].str.replace('R\\$', '', regex=True)\n",
    "\n",
    "xp.drop(columns=['Estabelecimento','Parcela'],inplace=True)\n",
    "\n",
    "st.dataframe(xp)\n",
    "\n",
    "xp = to_excel(xp)\n",
    "\n",
    "st.download_button(label=\"Download\",data=xp,file_name='xp.xlsx')\n"
   ]
  }
 ],
 "metadata": {
  "kernelspec": {
   "display_name": "Python 3 (ipykernel)",
   "language": "python",
   "name": "python3"
  },
  "language_info": {
   "codemirror_mode": {
    "name": "ipython",
    "version": 3
   },
   "file_extension": ".py",
   "mimetype": "text/x-python",
   "name": "python",
   "nbconvert_exporter": "python",
   "pygments_lexer": "ipython3",
   "version": "3.10.9"
  }
 },
 "nbformat": 4,
 "nbformat_minor": 5
}
